{
 "cells": [
  {
   "cell_type": "markdown",
   "metadata": {},
   "source": [
    "# 实时疫情数据"
   ]
  },
  {
   "cell_type": "markdown",
   "metadata": {},
   "source": [
    "数据来源：腾讯新闻"
   ]
  },
  {
   "cell_type": "markdown",
   "metadata": {},
   "source": [
    "## 数据获取"
   ]
  },
  {
   "cell_type": "code",
   "execution_count": 31,
   "metadata": {},
   "outputs": [],
   "source": [
    "import requests\n",
    "import json\n",
    "import pandas as pd\n",
    "\n",
    "url = r'https://view.inews.qq.com/g2/getOnsInfo?name=disease_h5'\n",
    "response = requests.get(url)\n",
    "result = json.loads(response.json()['data'])\n",
    "data_china = result['areaTree'][0]['children']\n",
    "\n",
    "# item['total']总数据，替换为item['today']可获得当日新增数据\n",
    "def GetTotalChina(data_china):\n",
    "    province_list=[]\n",
    "    city_list=[]\n",
    "    confirm_list=[]\n",
    "    dead_list=[]\n",
    "    suspect_list=[]\n",
    "    heal_list=[]\n",
    "    \n",
    "    for each in data_china:\n",
    "        for item in each['children']:\n",
    "            province_list.append(each['name'])\n",
    "            city_list.append(item['name'])\n",
    "            confirm_list.append(item['total']['confirm'])\n",
    "            suspect_list.append(item['total']['suspect'])\n",
    "            dead_list.append(item['total']['dead'])\n",
    "            heal_list.append(item['total']['heal'])\n",
    "\n",
    "    ddict = {'province':province_list,\n",
    "            'city':city_list,\n",
    "            'confirm':confirm_list,\n",
    "            'suspect':suspect_list,\n",
    "            'dead':dead_list,\n",
    "            'heal':heal_list}\n",
    "    df = pd.DataFrame(ddict, columns=['province','city','confirm','suspect','dead', 'heal'])\n",
    "    confirm_prov = df.groupby(['province'])['confirm'].sum().reset_index()\n",
    "    confirm_prov = confirm_prov.sort_values(by=['confirm'], ascending=False)\n",
    "    confirm_prov = confirm_prov.reset_index(drop=True)\n",
    "    \n",
    "    return df\n",
    "\n",
    "def GetTodayChina(data_china):\n",
    "    province_list=[]\n",
    "    city_list=[]\n",
    "    confirm_list=[]\n",
    "    dead_list=[]\n",
    "    suspect_list=[]\n",
    "    heal_list=[]\n",
    "    \n",
    "    for each in data_china:\n",
    "        for item in each['children']:\n",
    "            province_list.append(each['name'])\n",
    "            city_list.append(item['name'])\n",
    "            confirm_list.append(item['today']['confirm'])\n",
    "            suspect_list.append(item['today']['suspect'])\n",
    "            dead_list.append(item['today']['dead'])\n",
    "            heal_list.append(item['today']['heal'])\n",
    "\n",
    "    ddict = {'province':province_list,\n",
    "            'city':city_list,\n",
    "            'confirm':confirm_list,\n",
    "            'suspect':suspect_list,\n",
    "            'dead':dead_list,\n",
    "            'heal':heal_list}\n",
    "    df = pd.DataFrame(ddict, columns=['province','city','confirm','suspect','dead', 'heal'])\n",
    "    confirm_prov = df.groupby(['province'])['confirm'].sum().reset_index()\n",
    "    confirm_prov = confirm_prov.sort_values(by=['confirm'], ascending=False)\n",
    "    confirm_prov = confirm_prov.reset_index(drop=True)\n",
    "    \n",
    "    return df\n",
    "\n",
    "dftotal = GetTotalChina(data_china)"
   ]
  },
  {
   "cell_type": "markdown",
   "metadata": {},
   "source": [
    "## 优化数据获取"
   ]
  },
  {
   "cell_type": "markdown",
   "metadata": {},
   "source": [
    "以下代码参考：https://github.com/ni1o1/pygeo-tutorial/blob/master/pyecharts_tutorial.ipynb"
   ]
  },
  {
   "cell_type": "code",
   "execution_count": 65,
   "metadata": {},
   "outputs": [],
   "source": [
    "import requests\n",
    "import json\n",
    "import pandas as pd\n",
    "\n",
    "url = r'https://view.inews.qq.com/g2/getOnsInfo?name=disease_h5'\n",
    "response = requests.get(url)\n",
    "result = json.loads(response.json()['data'])\n",
    "datachina = pd.DataFrame(result['areaTree'][0]['children'])\n",
    "dataprovince = pd.DataFrame(datachina['total'].apply(lambda r:[r]).sum())\n",
    "# dataprovince = list(datachina['total'])\n",
    "dataprovince['province'] = datachina['name']"
   ]
  },
  {
   "cell_type": "code",
   "execution_count": 66,
   "metadata": {},
   "outputs": [
    {
     "data": {
      "text/plain": [
       "array([['湖北', 16678],\n",
       "       ['浙江', 895],\n",
       "       ['广东', 895],\n",
       "       ['河南', 764],\n",
       "       ['湖南', 661],\n",
       "       ['江西', 548],\n",
       "       ['安徽', 530],\n",
       "       ['重庆', 376],\n",
       "       ['江苏', 341],\n",
       "       ['山东', 307],\n",
       "       ['四川', 301],\n",
       "       ['北京', 253],\n",
       "       ['上海', 243],\n",
       "       ['福建', 205],\n",
       "       ['黑龙江', 190],\n",
       "       ['陕西', 165],\n",
       "       ['广西', 150],\n",
       "       ['河北', 135],\n",
       "       ['云南', 124],\n",
       "       ['海南', 91],\n",
       "       ['辽宁', 81],\n",
       "       ['山西', 81],\n",
       "       ['天津', 69],\n",
       "       ['贵州', 64],\n",
       "       ['甘肃', 57],\n",
       "       ['吉林', 54],\n",
       "       ['内蒙古', 42],\n",
       "       ['宁夏', 34],\n",
       "       ['新疆', 32],\n",
       "       ['香港', 21],\n",
       "       ['青海', 17],\n",
       "       ['台湾', 11],\n",
       "       ['澳门', 10],\n",
       "       ['西藏', 1]], dtype=object)"
      ]
     },
     "execution_count": 66,
     "metadata": {},
     "output_type": "execute_result"
    }
   ],
   "source": [
    "dataprovince[['province','confirm']].values"
   ]
  },
  {
   "cell_type": "markdown",
   "metadata": {},
   "source": [
    "# 绘制确诊病例数分布图（直辖市、省、自治区级）"
   ]
  },
  {
   "cell_type": "markdown",
   "metadata": {},
   "source": [
    "## 按原数据绘图"
   ]
  },
  {
   "cell_type": "code",
   "execution_count": null,
   "metadata": {},
   "outputs": [],
   "source": [
    "from pyecharts import options as opts\n",
    "from pyecharts.charts import Map\n",
    "\n",
    "def DrawMapChina(data):\n",
    "    \n",
    "    confirm_prov = data.groupby(['province'])['confirm'].sum().reset_index()\n",
    "    confirm_prov = confirm_prov.sort_values(by=['confirm'], ascending=False)\n",
    "    confirm_prov = confirm_prov.reset_index(drop=True)\n",
    "\n",
    "    province = confirm_prov['province'].values.tolist()\n",
    "    confirm = confirm_prov['confirm'].values.tolist()\n",
    "\n",
    "    geo = Map()\n",
    "    geo.add(\"2019-nCoV确诊人数\", [list(z) for z in zip(province, confirm)], \"china\", is_roam=False, zoom=1.2)\n",
    "    geo.set_global_opts(visualmap_opts=opts.VisualMapOpts(max_=300),\n",
    "                       title_opts=opts.TitleOpts(title=\"2019-nCoV\"))\n",
    "    geo.render('map.html')\n",
    "    return geo.render_notebook()\n",
    "    \n",
    "DrawMapChina(dftotal)"
   ]
  },
  {
   "cell_type": "markdown",
   "metadata": {},
   "source": [
    "## 按优化获得的数据绘图"
   ]
  },
  {
   "cell_type": "code",
   "execution_count": 67,
   "metadata": {},
   "outputs": [
    {
     "data": {
      "text/plain": [
       "'E:\\\\pythonx\\\\疫情地图.html'"
      ]
     },
     "execution_count": 67,
     "metadata": {},
     "output_type": "execute_result"
    }
   ],
   "source": [
    "from pyecharts import options as opts\n",
    "from pyecharts.charts import Map\n",
    "import datetime\n",
    "date = datetime.datetime.now().strftime('%Y-%m-%d')\n",
    "c = (\n",
    "    Map()\n",
    "    .add(\"确诊病例数\",\n",
    "        dataprovince[['province','confirm']].values,\n",
    "        \"china\",\n",
    "        is_roam=False,\n",
    "        zoom=1.2,\n",
    "        is_map_symbol_show=False,\n",
    "        label_opts=opts.LabelOpts(position='inside'),\n",
    "        )\n",
    "    .set_global_opts(\n",
    "        title_opts=opts.TitleOpts(title='疫情地图 '+date),\n",
    "        visualmap_opts=opts.VisualMapOpts(is_piecewise=True,\n",
    "                                         pieces=[{'min':10000,'label':'10000人以上'},\n",
    "                                                 {'min':1000,'max':9999, 'label':'1000-9999人'},\n",
    "                                                 {'min':500,'max':999,'label':'500-999人'},\n",
    "                                                 {'min':100,'max':499,'label':'100-499人'},\n",
    "                                                 {'min':10,'max':99,'label':'10-99人'},\n",
    "                                                 {'min':1,'max':9,'label':'1-9人'}],\n",
    "                                         range_color=[\"#ffc6b3\",\"#ff8c66\",\"#ff9980\",\"#e60000\",\"#cc3300\",\"#b30000\",\"#800000\"]\n",
    "                                         ),\n",
    "                    )\n",
    ")\n",
    "c.render(\"疫情地图.html\")\n",
    "# c.render_notebook()"
   ]
  },
  {
   "cell_type": "markdown",
   "metadata": {},
   "source": [
    "![疫情地图](疫情地图.png)"
   ]
  },
  {
   "cell_type": "markdown",
   "metadata": {},
   "source": [
    "# 绘制确诊病例热力图（直辖市、省、自治区级）"
   ]
  },
  {
   "cell_type": "code",
   "execution_count": 68,
   "metadata": {},
   "outputs": [
    {
     "data": {
      "text/plain": [
       "'E:\\\\pythonx\\\\疫情热力图.html'"
      ]
     },
     "execution_count": 68,
     "metadata": {},
     "output_type": "execute_result"
    }
   ],
   "source": [
    "from pyecharts import options as opts\n",
    "from pyecharts.charts import Geo\n",
    "from pyecharts.globals import ChartType, SymbolType\n",
    "import datetime\n",
    "\n",
    "date = datetime.datetime.now().strftime('%Y-%m-%d')\n",
    "\n",
    "c = (\n",
    "    Geo()\n",
    "    .add_schema(maptype=\"china\",\n",
    "               is_roam=False,\n",
    "               zoom=1,)\n",
    "    .add(\n",
    "        \"确诊人数\",\n",
    "        dataprovince[['province','confirm']].values,\n",
    "        type_=ChartType.HEATMAP,\n",
    "    )\n",
    "    .set_series_opts(label_opts=opts.LabelOpts(is_show=False))\n",
    "    .set_global_opts(\n",
    "        visualmap_opts=opts.VisualMapOpts(max_=200),\n",
    "        title_opts=opts.TitleOpts(title=\"HeatMap \"+date),\n",
    "    )\n",
    ")\n",
    "c.render('疫情热力图.html')\n",
    "# c.render_notebook()"
   ]
  },
  {
   "cell_type": "markdown",
   "metadata": {},
   "source": [
    "![疫情热力图](疫情热力图.png)"
   ]
  }
 ],
 "metadata": {
  "kernelspec": {
   "display_name": "Python 3",
   "language": "python",
   "name": "python3"
  },
  "language_info": {
   "codemirror_mode": {
    "name": "ipython",
    "version": 3
   },
   "file_extension": ".py",
   "mimetype": "text/x-python",
   "name": "python",
   "nbconvert_exporter": "python",
   "pygments_lexer": "ipython3",
   "version": "3.7.3"
  },
  "toc": {
   "base_numbering": 1,
   "nav_menu": {},
   "number_sections": true,
   "sideBar": true,
   "skip_h1_title": false,
   "title_cell": "Table of Contents",
   "title_sidebar": "Contents",
   "toc_cell": false,
   "toc_position": {
    "height": "calc(100% - 180px)",
    "left": "10px",
    "top": "150px",
    "width": "165px"
   },
   "toc_section_display": true,
   "toc_window_display": false
  }
 },
 "nbformat": 4,
 "nbformat_minor": 2
}
